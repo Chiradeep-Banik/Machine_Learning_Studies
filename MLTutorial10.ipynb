{
  "nbformat": 4,
  "nbformat_minor": 0,
  "metadata": {
    "colab": {
      "name": "MLTutorial10.ipynb",
      "provenance": [],
      "collapsed_sections": [],
      "authorship_tag": "ABX9TyOHq9NINzb3lnLUtDt9IYTY",
      "include_colab_link": true
    },
    "kernelspec": {
      "name": "python3",
      "display_name": "Python 3"
    },
    "language_info": {
      "name": "python"
    }
  },
  "cells": [
    {
      "cell_type": "markdown",
      "metadata": {
        "id": "view-in-github",
        "colab_type": "text"
      },
      "source": [
        "<a href=\"https://colab.research.google.com/github/Vikram-Ahuja/Machine_Learning_Studies/blob/main/MLTutorial10.ipynb\" target=\"_parent\"><img src=\"https://colab.research.google.com/assets/colab-badge.svg\" alt=\"Open In Colab\"/></a>"
      ]
    },
    {
      "cell_type": "code",
      "metadata": {
        "id": "7IcQ-Siy2OJk"
      },
      "source": [
        "import tensorflow as tf \n",
        "import pandas as pd\n",
        "import matplotlib.pyplot as plt"
      ],
      "execution_count": 8,
      "outputs": []
    },
    {
      "cell_type": "code",
      "metadata": {
        "id": "m0xvTfTP8dJO"
      },
      "source": [
        "data_train = pd.read_csv(\"/content/sample_data/california_housing_train.csv\")\n",
        "data_test = pd.read_csv(\"/content/sample_data/california_housing_test.csv\")"
      ],
      "execution_count": 9,
      "outputs": []
    },
    {
      "cell_type": "code",
      "metadata": {
        "id": "BfQCSgwE8euv"
      },
      "source": [
        "data_validation = data_train[:1000]\n",
        "data_train = data_train[1000:]\n",
        "\n",
        "data_validation.reset_index(inplace=True,drop = True)\n",
        "data_train.reset_index(inplace=True,drop=True)"
      ],
      "execution_count": 10,
      "outputs": []
    },
    {
      "cell_type": "code",
      "metadata": {
        "colab": {
          "base_uri": "https://localhost:8080/",
          "height": 297
        },
        "id": "Mb8xCmQwBq7l",
        "outputId": "bc77551e-7154-4bdc-ec3d-66ae79bc7ba1"
      },
      "source": [
        "data_train.head()  \n",
        "data_train.describe()"
      ],
      "execution_count": 11,
      "outputs": [
        {
          "output_type": "execute_result",
          "data": {
            "text/html": [
              "<div>\n",
              "<style scoped>\n",
              "    .dataframe tbody tr th:only-of-type {\n",
              "        vertical-align: middle;\n",
              "    }\n",
              "\n",
              "    .dataframe tbody tr th {\n",
              "        vertical-align: top;\n",
              "    }\n",
              "\n",
              "    .dataframe thead th {\n",
              "        text-align: right;\n",
              "    }\n",
              "</style>\n",
              "<table border=\"1\" class=\"dataframe\">\n",
              "  <thead>\n",
              "    <tr style=\"text-align: right;\">\n",
              "      <th></th>\n",
              "      <th>longitude</th>\n",
              "      <th>latitude</th>\n",
              "      <th>housing_median_age</th>\n",
              "      <th>total_rooms</th>\n",
              "      <th>total_bedrooms</th>\n",
              "      <th>population</th>\n",
              "      <th>households</th>\n",
              "      <th>median_income</th>\n",
              "      <th>median_house_value</th>\n",
              "    </tr>\n",
              "  </thead>\n",
              "  <tbody>\n",
              "    <tr>\n",
              "      <th>count</th>\n",
              "      <td>16000.000000</td>\n",
              "      <td>16000.000000</td>\n",
              "      <td>16000.000000</td>\n",
              "      <td>16000.000000</td>\n",
              "      <td>16000.000000</td>\n",
              "      <td>16000.000000</td>\n",
              "      <td>16000.000000</td>\n",
              "      <td>16000.000000</td>\n",
              "      <td>16000.000000</td>\n",
              "    </tr>\n",
              "    <tr>\n",
              "      <th>mean</th>\n",
              "      <td>-119.740367</td>\n",
              "      <td>35.778143</td>\n",
              "      <td>29.074625</td>\n",
              "      <td>2608.114375</td>\n",
              "      <td>532.376313</td>\n",
              "      <td>1420.212625</td>\n",
              "      <td>497.671500</td>\n",
              "      <td>3.912396</td>\n",
              "      <td>211276.619250</td>\n",
              "    </tr>\n",
              "    <tr>\n",
              "      <th>std</th>\n",
              "      <td>1.926467</td>\n",
              "      <td>2.105571</td>\n",
              "      <td>12.606669</td>\n",
              "      <td>2143.434912</td>\n",
              "      <td>412.221837</td>\n",
              "      <td>1145.976516</td>\n",
              "      <td>381.140856</td>\n",
              "      <td>1.925333</td>\n",
              "      <td>117026.776509</td>\n",
              "    </tr>\n",
              "    <tr>\n",
              "      <th>min</th>\n",
              "      <td>-124.350000</td>\n",
              "      <td>32.560000</td>\n",
              "      <td>1.000000</td>\n",
              "      <td>2.000000</td>\n",
              "      <td>1.000000</td>\n",
              "      <td>3.000000</td>\n",
              "      <td>1.000000</td>\n",
              "      <td>0.499900</td>\n",
              "      <td>14999.000000</td>\n",
              "    </tr>\n",
              "    <tr>\n",
              "      <th>25%</th>\n",
              "      <td>-121.850000</td>\n",
              "      <td>33.980000</td>\n",
              "      <td>19.000000</td>\n",
              "      <td>1455.000000</td>\n",
              "      <td>296.000000</td>\n",
              "      <td>788.000000</td>\n",
              "      <td>281.000000</td>\n",
              "      <td>2.583975</td>\n",
              "      <td>122500.000000</td>\n",
              "    </tr>\n",
              "    <tr>\n",
              "      <th>50%</th>\n",
              "      <td>-118.940000</td>\n",
              "      <td>34.440000</td>\n",
              "      <td>29.000000</td>\n",
              "      <td>2110.000000</td>\n",
              "      <td>430.000000</td>\n",
              "      <td>1159.000000</td>\n",
              "      <td>407.000000</td>\n",
              "      <td>3.566700</td>\n",
              "      <td>184400.000000</td>\n",
              "    </tr>\n",
              "    <tr>\n",
              "      <th>75%</th>\n",
              "      <td>-118.110000</td>\n",
              "      <td>37.750000</td>\n",
              "      <td>38.000000</td>\n",
              "      <td>3107.250000</td>\n",
              "      <td>641.000000</td>\n",
              "      <td>1704.000000</td>\n",
              "      <td>599.000000</td>\n",
              "      <td>4.800000</td>\n",
              "      <td>269825.000000</td>\n",
              "    </tr>\n",
              "    <tr>\n",
              "      <th>max</th>\n",
              "      <td>-117.100000</td>\n",
              "      <td>41.950000</td>\n",
              "      <td>52.000000</td>\n",
              "      <td>37937.000000</td>\n",
              "      <td>6445.000000</td>\n",
              "      <td>35682.000000</td>\n",
              "      <td>6082.000000</td>\n",
              "      <td>15.000100</td>\n",
              "      <td>500001.000000</td>\n",
              "    </tr>\n",
              "  </tbody>\n",
              "</table>\n",
              "</div>"
            ],
            "text/plain": [
              "          longitude      latitude  ...  median_income  median_house_value\n",
              "count  16000.000000  16000.000000  ...   16000.000000        16000.000000\n",
              "mean    -119.740367     35.778143  ...       3.912396       211276.619250\n",
              "std        1.926467      2.105571  ...       1.925333       117026.776509\n",
              "min     -124.350000     32.560000  ...       0.499900        14999.000000\n",
              "25%     -121.850000     33.980000  ...       2.583975       122500.000000\n",
              "50%     -118.940000     34.440000  ...       3.566700       184400.000000\n",
              "75%     -118.110000     37.750000  ...       4.800000       269825.000000\n",
              "max     -117.100000     41.950000  ...      15.000100       500001.000000\n",
              "\n",
              "[8 rows x 9 columns]"
            ]
          },
          "metadata": {
            "tags": []
          },
          "execution_count": 11
        }
      ]
    },
    {
      "cell_type": "code",
      "metadata": {
        "colab": {
          "base_uri": "https://localhost:8080/",
          "height": 282
        },
        "id": "Q9F6DVDT-oIs",
        "outputId": "c191b907-9326-4a3d-c3dd-df24358263cf"
      },
      "source": [
        "plt.plot(data_train)\n",
        "plt.legend()\n",
        "plt.show()"
      ],
      "execution_count": 6,
      "outputs": [
        {
          "output_type": "stream",
          "text": [
            "No handles with labels found to put in legend.\n"
          ],
          "name": "stderr"
        },
        {
          "output_type": "display_data",
          "data": {
            "image/png": "[encoded data removed]",
            "text/plain": [
              "<Figure size 432x288 with 1 Axes>"
            ]
          },
          "metadata": {
            "tags": [],
            "needs_background": "light"
          }
        }
      ]
    },
    {
      "cell_type": "code",
      "metadata": {
        "id": "TinSuurxD_l1"
      },
      "source": [
        "features_data_train = data_train.drop([\"latitude\",\"longitude\",\"median_house_value\"],axis=1)\n",
        "labels_data_train = data_train[\"median_house_value\"]\n",
        "\n",
        "features_data_test = data_test.drop([\"latitude\",\"longitude\",\"median_house_value\"],axis=1)\n",
        "labels_data_test = data_test[\"median_house_value\"]\n",
        "\n",
        "features_data_validation = data_validation.drop([\"latitude\",\"longitude\",\"median_house_value\"],axis=1)\n",
        "labels_data_validation = data_validation[\"median_house_value\"]"
      ],
      "execution_count": 12,
      "outputs": []
    },
    {
      "cell_type": "code",
      "metadata": {
        "id": "OlPNXyAEJWJu"
      },
      "source": [
        "model = tf.keras.Sequential()\n",
        "model.add(tf.keras.layers.Dense(8))\n",
        "model.add(tf.keras.layers.Dense(1))\n",
        "model.compile(optimizer='sgd', loss='mse', metrics=\"mse\")\n",
        "\n",
        "model.fit(features_data_train,labels_data_train , batch_size=20 , epochs=100)\n"
      ],
      "execution_count": null,
      "outputs": []
    }
  ]
}