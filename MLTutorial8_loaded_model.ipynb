{
  "nbformat": 4,
  "nbformat_minor": 0,
  "metadata": {
    "colab": {
      "name": "MLTutorial8_loaded_model.ipynb",
      "provenance": [],
      "collapsed_sections": [],
      "mount_file_id": "1ZjPJHKCxN8LAED7e5utXcYPCGbPEw70Z",
      "authorship_tag": "ABX9TyO1A5akNkRh06vysXHLOVwp",
      "include_colab_link": true
    },
    "kernelspec": {
      "name": "python3",
      "display_name": "Python 3"
    },
    "language_info": {
      "name": "python"
    }
  },
  "cells": [
    {
      "cell_type": "markdown",
      "metadata": {
        "id": "view-in-github",
        "colab_type": "text"
      },
      "source": [
        "<a href=\"https://colab.research.google.com/github/Vikram-Ahuja/Machine_Learning_Studies/blob/main/MLTutorial8_loaded_model.ipynb\" target=\"_parent\"><img src=\"https://colab.research.google.com/assets/colab-badge.svg\" alt=\"Open In Colab\"/></a>"
      ]
    },
    {
      "cell_type": "code",
      "metadata": {
        "colab": {
          "base_uri": "https://localhost:8080/"
        },
        "id": "ndNZl9gVxTNU",
        "outputId": "726baff5-b8e2-49d1-fbc4-a24a8e075322"
      },
      "source": [
        "import tensorflow as tf\n",
        "model_loaded = tf.keras.models.load_model(\"/content/drive/MyDrive/my_model\")\n",
        "\n",
        "model_loaded.predict([1013])"
      ],
      "execution_count": 2,
      "outputs": [
        {
          "output_type": "execute_result",
          "data": {
            "text/plain": [
              "array([[1023.0044]], dtype=float32)"
            ]
          },
          "metadata": {
            "tags": []
          },
          "execution_count": 2
        }
      ]
    }
  ]
}