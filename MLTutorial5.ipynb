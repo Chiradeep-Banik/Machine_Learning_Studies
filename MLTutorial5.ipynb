{
  "nbformat": 4,
  "nbformat_minor": 0,
  "metadata": {
    "colab": {
      "name": "MLTutorial5.ipynb",
      "provenance": [],
      "authorship_tag": "ABX9TyPT/FfEWrSyx1LFQ8VD1kd9",
      "include_colab_link": true
    },
    "kernelspec": {
      "name": "python3",
      "display_name": "Python 3"
    },
    "language_info": {
      "name": "python"
    }
  },
  "cells": [
    {
      "cell_type": "markdown",
      "metadata": {
        "id": "view-in-github",
        "colab_type": "text"
      },
      "source": [
        "<a href=\"https://colab.research.google.com/github/Vikram-Ahuja/Machine_Learning_Studies/blob/main/MLTutorial5.ipynb\" target=\"_parent\"><img src=\"https://colab.research.google.com/assets/colab-badge.svg\" alt=\"Open In Colab\"/></a>"
      ]
    },
    {
      "cell_type": "markdown",
      "metadata": {
        "id": "QWuW7iqaPGFS"
      },
      "source": [
        "Using Tensorflow\n"
      ]
    },
    {
      "cell_type": "code",
      "metadata": {
        "id": "9GB7UXiPZctB",
        "colab": {
          "base_uri": "https://localhost:8080/",
          "height": 35
        },
        "outputId": "8fd6b125-6480-41f6-e722-589f57b3c1fe"
      },
      "source": [
        "import tensorflow as tf\n",
        "import numpy as np\n",
        "import pandas as pd\n",
        "tf.__version__"
      ],
      "execution_count": 20,
      "outputs": [
        {
          "output_type": "execute_result",
          "data": {
            "application/vnd.google.colaboratory.intrinsic+json": {
              "type": "string"
            },
            "text/plain": [
              "'2.4.1'"
            ]
          },
          "metadata": {
            "tags": []
          },
          "execution_count": 20
        }
      ]
    },
    {
      "cell_type": "code",
      "metadata": {
        "colab": {
          "base_uri": "https://localhost:8080/"
        },
        "id": "O6USpDS1PxW3",
        "outputId": "a159e507-48d4-414f-ae47-f0de10d70b00"
      },
      "source": [
        "arr = np.array([[1,1],[1,2]])\n",
        "\n",
        "print(pd.DataFrame(arr))\n",
        "first_tensor = tf.constant(arr ,dtype=tf.float64)\n",
        "\n",
        "first_tensor.ndim"
      ],
      "execution_count": 46,
      "outputs": [
        {
          "output_type": "stream",
          "text": [
            "   0  1\n",
            "0  1  1\n",
            "1  1  2\n"
          ],
          "name": "stdout"
        },
        {
          "output_type": "execute_result",
          "data": {
            "text/plain": [
              "2"
            ]
          },
          "metadata": {
            "tags": []
          },
          "execution_count": 46
        }
      ]
    },
    {
      "cell_type": "code",
      "metadata": {
        "colab": {
          "base_uri": "https://localhost:8080/"
        },
        "id": "FCa0Y7HnUZue",
        "outputId": "ed5e8e46-1618-407f-8048-b61a41095815"
      },
      "source": [
        "sec_tensor = tf.Variable(arr, dtype=tf.float64) \n",
        "\n",
        "sec_tensor[0].assign(np.array([2,2]))\n",
        "\n",
        "sec_tensor.numpy"
      ],
      "execution_count": 58,
      "outputs": [
        {
          "output_type": "execute_result",
          "data": {
            "text/plain": [
              "<bound method BaseResourceVariable.numpy of <tf.Variable 'Variable:0' shape=(2, 2) dtype=float64, numpy=\n",
              "array([[2., 2.],\n",
              "       [1., 2.]])>>"
            ]
          },
          "metadata": {
            "tags": []
          },
          "execution_count": 58
        }
      ]
    }
  ]
}