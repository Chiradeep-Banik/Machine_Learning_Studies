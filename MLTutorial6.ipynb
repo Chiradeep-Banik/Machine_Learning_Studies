{
  "nbformat": 4,
  "nbformat_minor": 0,
  "metadata": {
    "colab": {
      "name": "MLTutorial6.ipynb",
      "provenance": [],
      "collapsed_sections": [],
      "authorship_tag": "ABX9TyODnOzaKDTCAuI8qKxWoU2p",
      "include_colab_link": true
    },
    "kernelspec": {
      "name": "python3",
      "display_name": "Python 3"
    },
    "language_info": {
      "name": "python"
    }
  },
  "cells": [
    {
      "cell_type": "markdown",
      "metadata": {
        "id": "view-in-github",
        "colab_type": "text"
      },
      "source": [
        "<a href=\"https://colab.research.google.com/github/Vikram-Ahuja/Machine_Learning_Studies/blob/main/MLTutorial6.ipynb\" target=\"_parent\"><img src=\"https://colab.research.google.com/assets/colab-badge.svg\" alt=\"Open In Colab\"/></a>"
      ]
    },
    {
      "cell_type": "code",
      "metadata": {
        "id": "MvzI8E9-YepE"
      },
      "source": [
        "import tensorflow as tf"
      ],
      "execution_count": 175,
      "outputs": []
    },
    {
      "cell_type": "code",
      "metadata": {
        "colab": {
          "base_uri": "https://localhost:8080/"
        },
        "id": "VuBaY5n9S6T2",
        "outputId": "f407334e-b8a3-4a54-939d-e5cf84a68322"
      },
      "source": [
        "##Created Random Tensors\n",
        "random_tensor1 = tf.random.uniform(shape =(5,2),minval=0,maxval=100,dtype=tf.float64,seed =13)\n",
        "\n",
        "random_tensor2 =tf.random.normal(shape=(1,1,1,1),mean=50,stddev=10,dtype=tf.float64,seed = 13)\n",
        "\n",
        "random_tensor2.ndim"
      ],
      "execution_count": 176,
      "outputs": [
        {
          "output_type": "execute_result",
          "data": {
            "text/plain": [
              "4"
            ]
          },
          "metadata": {
            "tags": []
          },
          "execution_count": 176
        }
      ]
    },
    {
      "cell_type": "code",
      "metadata": {
        "colab": {
          "base_uri": "https://localhost:8080/"
        },
        "id": "jCJgrj1gU_Za",
        "outputId": "458c88c0-5c68-44e1-81dc-ca663b2a51d2"
      },
      "source": [
        "#Shuffling the tensors\n",
        "\n",
        "print(random_tensor1)\n",
        "\n",
        "tf.random.set_seed(13)\n",
        "random_tensor3 = tf.random.shuffle(random_tensor1,seed=13)\n",
        "\n",
        "print(random_tensor3)\n",
        "\n",
        "random_tensor1[0]"
      ],
      "execution_count": 177,
      "outputs": [
        {
          "output_type": "stream",
          "text": [
            "tf.Tensor(\n",
            "[[ 4.3527706  90.5250803 ]\n",
            " [ 0.54944547 28.83540087]\n",
            " [ 2.20162972 37.34918672]\n",
            " [66.577573   31.64387472]\n",
            " [72.35766796 17.18058111]], shape=(5, 2), dtype=float64)\n",
            "tf.Tensor(\n",
            "[[ 0.54944547 28.83540087]\n",
            " [ 4.3527706  90.5250803 ]\n",
            " [72.35766796 17.18058111]\n",
            " [ 2.20162972 37.34918672]\n",
            " [66.577573   31.64387472]], shape=(5, 2), dtype=float64)\n"
          ],
          "name": "stdout"
        },
        {
          "output_type": "execute_result",
          "data": {
            "text/plain": [
              "<tf.Tensor: shape=(2,), dtype=float64, numpy=array([ 4.3527706, 90.5250803])>"
            ]
          },
          "metadata": {
            "tags": []
          },
          "execution_count": 177
        }
      ]
    },
    {
      "cell_type": "code",
      "metadata": {
        "colab": {
          "base_uri": "https://localhost:8080/"
        },
        "id": "D9_pyVuKZh1c",
        "outputId": "1fb83e0e-c320-43a2-eee5-28b872ceca24"
      },
      "source": [
        "zero_tensor = tf.zeros(shape=(3,12),dtype=tf.float64,name=\"Zerooooooo\")\n",
        "\n",
        "zero_tensor"
      ],
      "execution_count": 178,
      "outputs": [
        {
          "output_type": "execute_result",
          "data": {
            "text/plain": [
              "<tf.Tensor: shape=(3, 12), dtype=float64, numpy=\n",
              "array([[0., 0., 0., 0., 0., 0., 0., 0., 0., 0., 0., 0.],\n",
              "       [0., 0., 0., 0., 0., 0., 0., 0., 0., 0., 0., 0.],\n",
              "       [0., 0., 0., 0., 0., 0., 0., 0., 0., 0., 0., 0.]])>"
            ]
          },
          "metadata": {
            "tags": []
          },
          "execution_count": 178
        }
      ]
    },
    {
      "cell_type": "code",
      "metadata": {
        "colab": {
          "base_uri": "https://localhost:8080/"
        },
        "id": "OMsrOOXIdndD",
        "outputId": "f7c11b21-250a-4a02-b386-f9eecb0b97fb"
      },
      "source": [
        "tf.reshape(tensor=zero_tensor,shape=(6,6))"
      ],
      "execution_count": 179,
      "outputs": [
        {
          "output_type": "execute_result",
          "data": {
            "text/plain": [
              "<tf.Tensor: shape=(6, 6), dtype=float64, numpy=\n",
              "array([[0., 0., 0., 0., 0., 0.],\n",
              "       [0., 0., 0., 0., 0., 0.],\n",
              "       [0., 0., 0., 0., 0., 0.],\n",
              "       [0., 0., 0., 0., 0., 0.],\n",
              "       [0., 0., 0., 0., 0., 0.],\n",
              "       [0., 0., 0., 0., 0., 0.]])>"
            ]
          },
          "metadata": {
            "tags": []
          },
          "execution_count": 179
        }
      ]
    },
    {
      "cell_type": "code",
      "metadata": {
        "colab": {
          "base_uri": "https://localhost:8080/"
        },
        "id": "kta5IcoselJ5",
        "outputId": "c9469830-7100-428c-906e-08d6bfd3e129"
      },
      "source": [
        "random_tensor = tf.random.normal(shape = (5,5,5),seed = 13 )\n",
        "\n",
        "print(random_tensor)\n",
        "random_tensor =tf.expand_dims(random_tensor,axis=0) # Adds the Dimension\n",
        "random_tensor=tf.squeeze(random_tensor)#removes the dimension \n",
        "random_tensor"
      ],
      "execution_count": 180,
      "outputs": [
        {
          "output_type": "stream",
          "text": [
            "tf.Tensor(\n",
            "[[[ 0.93489206 -0.23150997 -0.60077703 -0.50823057  1.1962602 ]\n",
            "  [-0.32262048 -0.31859142  0.9403484  -0.7649619   0.3917004 ]\n",
            "  [-0.5219959  -0.18971556  0.07231053  0.99700207 -2.2673013 ]\n",
            "  [-0.60667336 -0.94174874 -0.08343678  1.3710041   0.5497593 ]\n",
            "  [-0.95295835  1.0438824   0.9872973   0.66903025  0.19385022]]\n",
            "\n",
            " [[-0.27311322  0.9701311   0.9654078   2.4064984   0.59391385]\n",
            "  [-1.476547   -1.2169393   0.38666278 -0.3371533  -0.96262443]\n",
            "  [-0.5349628   1.1190351   1.4671897   0.49287644 -0.3606    ]\n",
            "  [ 1.869302   -0.42454675  0.12942316 -0.9341276   0.83172834]\n",
            "  [ 0.2531173  -0.6708323  -0.5179121  -0.09647777  1.7431607 ]]\n",
            "\n",
            " [[-1.7538766   2.0238423  -1.2496028   0.39953783  0.17407416]\n",
            "  [ 0.09150598 -1.8865305   0.8237378   0.15466441 -0.2178094 ]\n",
            "  [-1.2850229  -0.3360551  -2.0663612   0.5730885  -0.65373373]\n",
            "  [-1.8546122  -1.2689756  -0.21104825 -1.423704   -0.9327639 ]\n",
            "  [-1.0475117   0.4561674  -1.5184132   0.4763998  -0.16696508]]\n",
            "\n",
            " [[-1.3787165   0.6405084  -0.7509594   0.03101844  1.4299581 ]\n",
            "  [ 0.36348283 -0.4244831   1.4716804   0.4626068  -0.84686893]\n",
            "  [-0.21035698  1.4212719  -0.8247052  -0.9810089   1.5888078 ]\n",
            "  [-0.16482636 -0.18231149  0.9473137   0.3424112  -1.5894772 ]\n",
            "  [ 0.39244413 -0.92701113  0.98093796  0.5163589   0.01749407]]\n",
            "\n",
            " [[ 0.14890666  1.052407   -0.08901582  0.6614878  -1.5462009 ]\n",
            "  [-1.1872879  -0.6879729   0.5662114  -0.88703483 -1.1949857 ]\n",
            "  [ 0.49348757 -1.17776     1.2610077   0.78218657 -0.2699563 ]\n",
            "  [-0.31484532  0.3477664   1.1537076  -0.26620165 -0.5534118 ]\n",
            "  [-0.3726264   1.800301   -1.1982902   0.8941197  -0.58708334]]], shape=(5, 5, 5), dtype=float32)\n"
          ],
          "name": "stdout"
        },
        {
          "output_type": "execute_result",
          "data": {
            "text/plain": [
              "<tf.Tensor: shape=(5, 5, 5), dtype=float32, numpy=\n",
              "array([[[ 0.93489206, -0.23150997, -0.60077703, -0.50823057,\n",
              "          1.1962602 ],\n",
              "        [-0.32262048, -0.31859142,  0.9403484 , -0.7649619 ,\n",
              "          0.3917004 ],\n",
              "        [-0.5219959 , -0.18971556,  0.07231053,  0.99700207,\n",
              "         -2.2673013 ],\n",
              "        [-0.60667336, -0.94174874, -0.08343678,  1.3710041 ,\n",
              "          0.5497593 ],\n",
              "        [-0.95295835,  1.0438824 ,  0.9872973 ,  0.66903025,\n",
              "          0.19385022]],\n",
              "\n",
              "       [[-0.27311322,  0.9701311 ,  0.9654078 ,  2.4064984 ,\n",
              "          0.59391385],\n",
              "        [-1.476547  , -1.2169393 ,  0.38666278, -0.3371533 ,\n",
              "         -0.96262443],\n",
              "        [-0.5349628 ,  1.1190351 ,  1.4671897 ,  0.49287644,\n",
              "         -0.3606    ],\n",
              "        [ 1.869302  , -0.42454675,  0.12942316, -0.9341276 ,\n",
              "          0.83172834],\n",
              "        [ 0.2531173 , -0.6708323 , -0.5179121 , -0.09647777,\n",
              "          1.7431607 ]],\n",
              "\n",
              "       [[-1.7538766 ,  2.0238423 , -1.2496028 ,  0.39953783,\n",
              "          0.17407416],\n",
              "        [ 0.09150598, -1.8865305 ,  0.8237378 ,  0.15466441,\n",
              "         -0.2178094 ],\n",
              "        [-1.2850229 , -0.3360551 , -2.0663612 ,  0.5730885 ,\n",
              "         -0.65373373],\n",
              "        [-1.8546122 , -1.2689756 , -0.21104825, -1.423704  ,\n",
              "         -0.9327639 ],\n",
              "        [-1.0475117 ,  0.4561674 , -1.5184132 ,  0.4763998 ,\n",
              "         -0.16696508]],\n",
              "\n",
              "       [[-1.3787165 ,  0.6405084 , -0.7509594 ,  0.03101844,\n",
              "          1.4299581 ],\n",
              "        [ 0.36348283, -0.4244831 ,  1.4716804 ,  0.4626068 ,\n",
              "         -0.84686893],\n",
              "        [-0.21035698,  1.4212719 , -0.8247052 , -0.9810089 ,\n",
              "          1.5888078 ],\n",
              "        [-0.16482636, -0.18231149,  0.9473137 ,  0.3424112 ,\n",
              "         -1.5894772 ],\n",
              "        [ 0.39244413, -0.92701113,  0.98093796,  0.5163589 ,\n",
              "          0.01749407]],\n",
              "\n",
              "       [[ 0.14890666,  1.052407  , -0.08901582,  0.6614878 ,\n",
              "         -1.5462009 ],\n",
              "        [-1.1872879 , -0.6879729 ,  0.5662114 , -0.88703483,\n",
              "         -1.1949857 ],\n",
              "        [ 0.49348757, -1.17776   ,  1.2610077 ,  0.78218657,\n",
              "         -0.2699563 ],\n",
              "        [-0.31484532,  0.3477664 ,  1.1537076 , -0.26620165,\n",
              "         -0.5534118 ],\n",
              "        [-0.3726264 ,  1.800301  , -1.1982902 ,  0.8941197 ,\n",
              "         -0.58708334]]], dtype=float32)>"
            ]
          },
          "metadata": {
            "tags": []
          },
          "execution_count": 180
        }
      ]
    },
    {
      "cell_type": "code",
      "metadata": {
        "colab": {
          "base_uri": "https://localhost:8080/"
        },
        "id": "eUDccKY0howL",
        "outputId": "25cd9208-9d96-4b45-8e46-8f2d11ff3363"
      },
      "source": [
        "random_tensor4 = tf.random.uniform( shape = (2,2),minval = 0,maxval=12,seed = 13,dtype =tf.float64)\n",
        "random_tensor5 = tf.random.uniform( shape = (2,2),minval = 0,maxval=12,seed = 13,dtype =tf.float64)\n",
        "print(random_tensor4,random_tensor5)\n",
        "print(\" \")\n",
        "print(tf.matmul(random_tensor4,random_tensor5))#Gives the matrix multiplication of the tensors\n",
        "print(\"\")\n",
        "print(tf.matmul(tf.transpose(random_tensor4),tf.transpose(random_tensor5)))#Gives the matrix multiplication of the tensors\n",
        "print(\"\")\n",
        "print(tf.tensordot(random_tensor4,random_tensor5,axes=2))\n",
        "print(\"\")\n",
        "print(tf.tensordot(random_tensor4,random_tensor5,axes=2))"
      ],
      "execution_count": 181,
      "outputs": [
        {
          "output_type": "stream",
          "text": [
            "tf.Tensor(\n",
            "[[ 0.37276995 10.43797981]\n",
            " [ 8.55779111 10.64313953]], shape=(2, 2), dtype=float64) tf.Tensor(\n",
            "[[10.90617664  9.29896142]\n",
            " [ 8.6031378   2.80714768]], shape=(2, 2), dtype=float64)\n",
            " \n",
            "tf.Tensor(\n",
            "[[ 93.86487361  32.76732423]\n",
            " [184.89717747 109.45543386]], shape=(2, 2), dtype=float64)\n",
            "\n",
            "tf.Tensor(\n",
            "[[ 83.64406434  27.22997475]\n",
            " [212.80859536 119.67624313]], shape=(2, 2), dtype=float64)\n",
            "\n",
            "tf.Tensor(204.62858717159517, shape=(), dtype=float64)\n",
            "\n",
            "tf.Tensor(204.62858717159517, shape=(), dtype=float64)\n"
          ],
          "name": "stdout"
        }
      ]
    },
    {
      "cell_type": "code",
      "metadata": {
        "colab": {
          "base_uri": "https://localhost:8080/"
        },
        "id": "9Uvptw90pNPd",
        "outputId": "730b3bfc-4bba-4db0-eb42-c7425a227cc2"
      },
      "source": [
        "print(random_tensor.dtype)\n",
        "\n",
        "random_tensor= tf.cast(random_tensor,dtype=tf.float16)\n",
        "print(random_tensor.dtype)\n"
      ],
      "execution_count": 182,
      "outputs": [
        {
          "output_type": "stream",
          "text": [
            "<dtype: 'float32'>\n",
            "<dtype: 'float16'>\n"
          ],
          "name": "stdout"
        }
      ]
    },
    {
      "cell_type": "code",
      "metadata": {
        "colab": {
          "base_uri": "https://localhost:8080/"
        },
        "id": "QcuOmozDrgle",
        "outputId": "6ff80dc5-dac7-419c-e52d-78bc85489e78"
      },
      "source": [
        "print(random_tensor3)\n",
        "\n",
        "print(\"Max \",tf.math.reduce_max(random_tensor3).numpy())\n",
        "print(\"Min \",tf.math.reduce_min(random_tensor3).numpy())\n",
        "print(\"Mean \",tf.math.reduce_mean(random_tensor3).numpy())\n",
        "print(\"Sum \",tf.math.reduce_sum(random_tensor3).numpy())\n",
        "print(\"Standard_div \",tf.math.reduce_std(random_tensor3).numpy())\n",
        "print(\"Varience \",tf.math.reduce_variance(random_tensor3).numpy())\n",
        "\n",
        "print(tf.math.scalar_mul(10000,random_tensor3))\n"
      ],
      "execution_count": 183,
      "outputs": [
        {
          "output_type": "stream",
          "text": [
            "tf.Tensor(\n",
            "[[ 0.54944547 28.83540087]\n",
            " [ 4.3527706  90.5250803 ]\n",
            " [72.35766796 17.18058111]\n",
            " [ 2.20162972 37.34918672]\n",
            " [66.577573   31.64387472]], shape=(5, 2), dtype=float64)\n",
            "Max  90.52508030257442\n",
            "Min  0.5494454717340114\n",
            "Mean  35.157321047872806\n",
            "Sum  351.5732104787281\n",
            "Standard_div  30.0826664598419\n",
            "Varience  904.9668213340967\n",
            "tf.Tensor(\n",
            "[[  5494.45471734 288354.00870781]\n",
            " [ 43527.70600495 905250.80302574]\n",
            " [723576.67961912 171805.81107267]\n",
            " [ 22016.29718419 373491.86723982]\n",
            " [665775.7300266  316438.74718904]], shape=(5, 2), dtype=float64)\n"
          ],
          "name": "stdout"
        }
      ]
    },
    {
      "cell_type": "code",
      "metadata": {
        "colab": {
          "base_uri": "https://localhost:8080/"
        },
        "id": "Qd1GDpsXvagv",
        "outputId": "f43baa08-c835-4daf-cc60-16a3822c6b90"
      },
      "source": [
        "print(random_tensor5)\n",
        "print(tf.argmax(input= random_tensor5,axis=1))\n",
        "print(random_tensor5[0])"
      ],
      "execution_count": 184,
      "outputs": [
        {
          "output_type": "stream",
          "text": [
            "tf.Tensor(\n",
            "[[10.90617664  9.29896142]\n",
            " [ 8.6031378   2.80714768]], shape=(2, 2), dtype=float64)\n",
            "tf.Tensor([0 0], shape=(2,), dtype=int64)\n",
            "tf.Tensor([10.90617664  9.29896142], shape=(2,), dtype=float64)\n"
          ],
          "name": "stdout"
        }
      ]
    },
    {
      "cell_type": "code",
      "metadata": {
        "colab": {
          "base_uri": "https://localhost:8080/"
        },
        "id": "pFfQ4VsC1HaH",
        "outputId": "4110ab80-d7a7-4d2b-b99c-658935753c7a"
      },
      "source": [
        "tf.compat.v1.one_hot([1,2,3,4,5],depth=5, on_value=\"Yes\",off_value=\"NO\" )"
      ],
      "execution_count": 185,
      "outputs": [
        {
          "output_type": "execute_result",
          "data": {
            "text/plain": [
              "<tf.Tensor: shape=(5, 5), dtype=string, numpy=\n",
              "array([[b'NO', b'Yes', b'NO', b'NO', b'NO'],\n",
              "       [b'NO', b'NO', b'Yes', b'NO', b'NO'],\n",
              "       [b'NO', b'NO', b'NO', b'Yes', b'NO'],\n",
              "       [b'NO', b'NO', b'NO', b'NO', b'Yes'],\n",
              "       [b'NO', b'NO', b'NO', b'NO', b'NO']], dtype=object)>"
            ]
          },
          "metadata": {
            "tags": []
          },
          "execution_count": 185
        }
      ]
    }
  ]
}