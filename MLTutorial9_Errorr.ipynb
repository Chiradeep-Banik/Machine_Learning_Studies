{
  "nbformat": 4,
  "nbformat_minor": 0,
  "metadata": {
    "colab": {
      "name": "MLTutorial9_Errorr.ipynb",
      "provenance": [],
      "collapsed_sections": [],
      "mount_file_id": "1IxRi3FPldnVr247kIH-1HXbvDOwxD3Uo",
      "authorship_tag": "ABX9TyPSA81vro7du1IB48NIa6j2",
      "include_colab_link": true
    },
    "kernelspec": {
      "name": "python3",
      "display_name": "Python 3"
    },
    "language_info": {
      "name": "python"
    }
  },
  "cells": [
    {
      "cell_type": "markdown",
      "metadata": {
        "id": "view-in-github",
        "colab_type": "text"
      },
      "source": [
        "<a href=\"https://colab.research.google.com/github/Vikram-Ahuja/Machine_Learning_Studies/blob/main/MLTutorial9_Errorr.ipynb\" target=\"_parent\"><img src=\"https://colab.research.google.com/assets/colab-badge.svg\" alt=\"Open In Colab\"/></a>"
      ]
    },
    {
      "cell_type": "code",
      "metadata": {
        "id": "hUkeZPAb25sz"
      },
      "source": [
        "import tensorflow as tf\n",
        "from math import sqrt\n",
        "import matplotlib.pyplot as plt\n",
        "from sklearn.model_selection import cross_validate"
      ],
      "execution_count": 2,
      "outputs": []
    },
    {
      "cell_type": "code",
      "metadata": {
        "colab": {
          "base_uri": "https://localhost:8080/",
          "height": 282
        },
        "id": "N-vC_NVJQYSg",
        "outputId": "8d68b004-6ebe-448f-be45-7e1be8e391d6"
      },
      "source": [
        "'''\n",
        "Equation Using  => x^2 + y^2 = 100\n",
        "'''\n",
        "X = tf.constant([i for i in range(-100,100)],dtype= tf.float16)\n",
        "y_set = []\n",
        "for xs in X :\n",
        "    y_set.append(sqrt(10000- xs**2))\n",
        "y = tf.constant(y_set, dtype=tf.float16)\n",
        "\n",
        "plt.plot(X,y)\n",
        "len(X)"
      ],
      "execution_count": 3,
      "outputs": [
        {
          "output_type": "execute_result",
          "data": {
            "text/plain": [
              "200"
            ]
          },
          "metadata": {
            "tags": []
          },
          "execution_count": 3
        },
        {
          "output_type": "display_data",
          "data": {
            "image/png": "[encoded data removed]",
            "text/plain": [
              "<Figure size 432x288 with 1 Axes>"
            ]
          },
          "metadata": {
            "tags": [],
            "needs_background": "light"
          }
        }
      ]
    },
    {
      "cell_type": "code",
      "metadata": {
        "colab": {
          "base_uri": "https://localhost:8080/",
          "height": 282
        },
        "id": "b0XPrlmkUkEl",
        "outputId": "59466528-36e0-410a-8822-82806d8e2f09"
      },
      "source": [
        "x_train = X[:180]\n",
        "x_test = X[180:]\n",
        "y_train= y[:180]\n",
        "y_test = y[180:]\n",
        "\n",
        "plt.plot(x_train,y_train,color=\"green\")\n",
        "plt.plot(x_test,y_test,color=\"blue\")"
      ],
      "execution_count": 4,
      "outputs": [
        {
          "output_type": "execute_result",
          "data": {
            "text/plain": [
              "[<matplotlib.lines.Line2D at 0x7f7c9b943350>]"
            ]
          },
          "metadata": {
            "tags": []
          },
          "execution_count": 4
        },
        {
          "output_type": "display_data",
          "data": {
            "image/png": "[encoded data removed]",
            "text/plain": [
              "<Figure size 432x288 with 1 Axes>"
            ]
          },
          "metadata": {
            "tags": [],
            "needs_background": "light"
          }
        }
      ]
    },
    {
      "cell_type": "code",
      "metadata": {
        "colab": {
          "base_uri": "https://localhost:8080/"
        },
        "id": "GIq0lfM8ZV80",
        "outputId": "186ba8f8-457c-43ef-8f8f-cb1b9aa8baee"
      },
      "source": [
        "Curve_model = tf.keras.Sequential()\n",
        "Curve_model.add(tf.keras.layers.Dense(100))\n",
        "Curve_model.add(tf.keras.layers.Dense(1))\n",
        "\n",
        "Curve_model.compile( optimizer=tf.keras.optimizers.SGD(learning_rate=0.01),loss=tf.keras.losses.MSE,metrics=[\"MAE\"])\n",
        "\n",
        "Curve_model.fit(x=x_train,y=y_train,epochs=10, batch_size=25)"
      ],
      "execution_count": 14,
      "outputs": [
        {
          "output_type": "stream",
          "text": [
            "Epoch 1/10\n",
            "8/8 [==============================] - 0s 2ms/step - loss: nan - MAE: nan      \n",
            "Epoch 2/10\n",
            "8/8 [==============================] - 0s 2ms/step - loss: nan - MAE: nan\n",
            "Epoch 3/10\n",
            "8/8 [==============================] - 0s 2ms/step - loss: nan - MAE: nan\n",
            "Epoch 4/10\n",
            "8/8 [==============================] - 0s 3ms/step - loss: nan - MAE: nan\n",
            "Epoch 5/10\n",
            "8/8 [==============================] - 0s 2ms/step - loss: nan - MAE: nan\n",
            "Epoch 6/10\n",
            "8/8 [==============================] - 0s 2ms/step - loss: nan - MAE: nan\n",
            "Epoch 7/10\n",
            "8/8 [==============================] - 0s 2ms/step - loss: nan - MAE: nan\n",
            "Epoch 8/10\n",
            "8/8 [==============================] - 0s 2ms/step - loss: nan - MAE: nan\n",
            "Epoch 9/10\n",
            "8/8 [==============================] - 0s 2ms/step - loss: nan - MAE: nan\n",
            "Epoch 10/10\n",
            "8/8 [==============================] - 0s 2ms/step - loss: nan - MAE: nan\n"
          ],
          "name": "stdout"
        },
        {
          "output_type": "execute_result",
          "data": {
            "text/plain": [
              "<tensorflow.python.keras.callbacks.History at 0x7f7c937a91d0>"
            ]
          },
          "metadata": {
            "tags": []
          },
          "execution_count": 14
        }
      ]
    },
    {
      "cell_type": "code",
      "metadata": {
        "id": "DGn37rV6bcwr"
      },
      "source": [
        ""
      ],
      "execution_count": null,
      "outputs": []
    }
  ]
}