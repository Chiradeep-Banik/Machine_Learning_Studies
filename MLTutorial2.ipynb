{
  "nbformat": 4,
  "nbformat_minor": 0,
  "metadata": {
    "colab": {
      "name": "MLTutorial2.ipynb",
      "provenance": [],
      "collapsed_sections": [],
      "mount_file_id": "14vERTPPBIC3kKD_ZSfVefrxn7CoSvw_Z",
      "authorship_tag": "ABX9TyMvpNTfqW+mU963g8Q2D6bT",
      "include_colab_link": true
    },
    "kernelspec": {
      "name": "python3",
      "display_name": "Python 3"
    },
    "language_info": {
      "name": "python"
    }
  },
  "cells": [
    {
      "cell_type": "markdown",
      "metadata": {
        "id": "view-in-github",
        "colab_type": "text"
      },
      "source": [
        "<a href=\"https://colab.research.google.com/github/Vikram-Ahuja/Machine_Learning_Studies/blob/main/MLTutorial2.ipynb\" target=\"_parent\"><img src=\"https://colab.research.google.com/assets/colab-badge.svg\" alt=\"Open In Colab\"/></a>"
      ]
    },
    {
      "cell_type": "code",
      "metadata": {
        "id": "HzAVIHHA__DM"
      },
      "source": [
        "import numpy as np\n",
        "import pandas as pd\n",
        "import matplotlib.pyplot as plt\n",
        "from sklearn import preprocessing,neighbors,model_selection"
      ],
      "execution_count": null,
      "outputs": []
    },
    {
      "cell_type": "code",
      "metadata": {
        "id": "Lj_OapifAqed",
        "colab": {
          "base_uri": "https://localhost:8080/"
        },
        "outputId": "1d0c312b-0b34-40dc-bb4d-799d24f66f97"
      },
      "source": [
        "data = pd.read_csv(\"/content/drive/MyDrive/Breast_cancer_data.csv\")\n",
        "# 1 = malignant, 0 = benign\n",
        "data.dropna(inplace=True)\n",
        "\n",
        "X=np.array(data.drop([\"diagnosis\"],1))\n",
        "y=np.array(data[\"diagnosis\"])\n",
        "\n",
        "X_train, X_test, y_train, y_test = model_selection.train_test_split(X,y,test_size=0.2)\n",
        "\n",
        "classifier_k_nearest = neighbors.KNeighborsClassifier()\n",
        "\n",
        "classifier_k_nearest.fit(X_train,y_train)\n",
        "\n",
        "s = np.array([1,2,3,4,5])\n",
        "print( \"Acurracy =\",classifier_k_nearest.score(X_test,y_test))\n",
        "print(\"Prediction for s =\",classifier_k_nearest.predict([s]))"
      ],
      "execution_count": null,
      "outputs": [
        {
          "output_type": "stream",
          "text": [
            "Acurracy = 0.9122807017543859\n",
            "Prediction for s = [1]\n"
          ],
          "name": "stdout"
        }
      ]
    }
  ]
}