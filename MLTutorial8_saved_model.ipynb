{
  "nbformat": 4,
  "nbformat_minor": 0,
  "metadata": {
    "colab": {
      "name": "MLTutorial8_saved_model.ipynb",
      "provenance": [],
      "mount_file_id": "1KjPTlsL_bLrseLJDy1dOT712FT6GIpuS",
      "authorship_tag": "ABX9TyOzRpETE7kIQt1Zjg7fEMqg",
      "include_colab_link": true
    },
    "kernelspec": {
      "name": "python3",
      "display_name": "Python 3"
    },
    "language_info": {
      "name": "python"
    }
  },
  "cells": [
    {
      "cell_type": "markdown",
      "metadata": {
        "id": "view-in-github",
        "colab_type": "text"
      },
      "source": [
        "<a href=\"https://colab.research.google.com/github/Vikram-Ahuja/Machine_Learning_Studies/blob/main/MLTutorial8_saved_model.ipynb\" target=\"_parent\"><img src=\"https://colab.research.google.com/assets/colab-badge.svg\" alt=\"Open In Colab\"/></a>"
      ]
    },
    {
      "cell_type": "code",
      "metadata": {
        "id": "9suUbgBFfJcA"
      },
      "source": [
        "import tensorflow as tf"
      ],
      "execution_count": 13,
      "outputs": []
    },
    {
      "cell_type": "code",
      "metadata": {
        "colab": {
          "base_uri": "https://localhost:8080/"
        },
        "id": "h_2G3Fn3fjjW",
        "outputId": "d76fa044-75aa-4249-dc42-904c39c844a0"
      },
      "source": [
        "arr_x = []\n",
        "arr_Y = []\n",
        "for i in range(1000):\n",
        "    arr_x.append(i)\n",
        "    arr_Y.append(i+10)\n",
        "\n",
        "x = tf.constant(arr_x,dtype=tf.float16)\n",
        "Y = tf.constant(arr_Y,dtype=tf.float16)\n",
        "\n",
        "model = tf.keras.Sequential(\n",
        "    [\n",
        "     tf.keras.layers.Dense( units=1,activation=tf.keras.activations.relu),\n",
        "     tf.keras.layers.Dense( units=1)\n",
        "    ]\n",
        ")\n",
        "model.pop()\n",
        "model.compile(optimizer=tf.keras.optimizers.Adam(learning_rate=0.1),loss=tf.keras.losses.MSE,metrics=\"accuracy\")\n",
        "\n",
        "\n",
        "model.fit( x = x,y=Y,epochs=100)"
      ],
      "execution_count": 59,
      "outputs": [
        {
          "output_type": "stream",
          "text": [
            "Epoch 1/100\n",
            "32/32 [==============================] - 0s 1ms/step - loss: 74464.1575 - accuracy: 0.0000e+00\n",
            "Epoch 2/100\n",
            "32/32 [==============================] - 0s 1ms/step - loss: 2137.6176 - accuracy: 0.0000e+00\n",
            "Epoch 3/100\n",
            "32/32 [==============================] - 0s 1ms/step - loss: 110.1377 - accuracy: 0.0000e+00\n",
            "Epoch 4/100\n",
            "32/32 [==============================] - 0s 1ms/step - loss: 24.0505 - accuracy: 0.0000e+00\n",
            "Epoch 5/100\n",
            "32/32 [==============================] - 0s 1ms/step - loss: 20.6124 - accuracy: 0.0000e+00\n",
            "Epoch 6/100\n",
            "32/32 [==============================] - 0s 1ms/step - loss: 19.9856 - accuracy: 0.0000e+00\n",
            "Epoch 7/100\n",
            "32/32 [==============================] - 0s 1ms/step - loss: 18.4649 - accuracy: 0.0000e+00\n",
            "Epoch 8/100\n",
            "32/32 [==============================] - 0s 1ms/step - loss: 19.9102 - accuracy: 0.0000e+00\n",
            "Epoch 9/100\n",
            "32/32 [==============================] - 0s 1ms/step - loss: 17.6324 - accuracy: 0.0000e+00\n",
            "Epoch 10/100\n",
            "32/32 [==============================] - 0s 1ms/step - loss: 17.1653 - accuracy: 0.0000e+00\n",
            "Epoch 11/100\n",
            "32/32 [==============================] - 0s 1ms/step - loss: 16.5088 - accuracy: 0.0000e+00\n",
            "Epoch 12/100\n",
            "32/32 [==============================] - 0s 1ms/step - loss: 15.8368 - accuracy: 0.0000e+00\n",
            "Epoch 13/100\n",
            "32/32 [==============================] - 0s 1ms/step - loss: 15.8505 - accuracy: 0.0000e+00\n",
            "Epoch 14/100\n",
            "32/32 [==============================] - 0s 1ms/step - loss: 14.7490 - accuracy: 0.0000e+00\n",
            "Epoch 15/100\n",
            "32/32 [==============================] - 0s 1ms/step - loss: 14.6041 - accuracy: 0.0000e+00\n",
            "Epoch 16/100\n",
            "32/32 [==============================] - 0s 1ms/step - loss: 13.7095 - accuracy: 0.0000e+00\n",
            "Epoch 17/100\n",
            "32/32 [==============================] - 0s 1ms/step - loss: 12.6905 - accuracy: 0.0000e+00\n",
            "Epoch 18/100\n",
            "32/32 [==============================] - 0s 1ms/step - loss: 13.0914 - accuracy: 0.0000e+00\n",
            "Epoch 19/100\n",
            "32/32 [==============================] - 0s 1ms/step - loss: 11.3115 - accuracy: 0.0000e+00\n",
            "Epoch 20/100\n",
            "32/32 [==============================] - 0s 1ms/step - loss: 10.8721 - accuracy: 0.0000e+00\n",
            "Epoch 21/100\n",
            "32/32 [==============================] - 0s 1ms/step - loss: 11.0638 - accuracy: 0.0000e+00\n",
            "Epoch 22/100\n",
            "32/32 [==============================] - 0s 1ms/step - loss: 9.5069 - accuracy: 0.0000e+00\n",
            "Epoch 23/100\n",
            "32/32 [==============================] - 0s 1ms/step - loss: 9.2439 - accuracy: 0.0000e+00\n",
            "Epoch 24/100\n",
            "32/32 [==============================] - 0s 1ms/step - loss: 8.5206 - accuracy: 0.0000e+00\n",
            "Epoch 25/100\n",
            "32/32 [==============================] - 0s 1ms/step - loss: 7.6518 - accuracy: 0.0000e+00\n",
            "Epoch 26/100\n",
            "32/32 [==============================] - 0s 1ms/step - loss: 8.1360 - accuracy: 0.0000e+00\n",
            "Epoch 27/100\n",
            "32/32 [==============================] - 0s 1ms/step - loss: 7.1424 - accuracy: 0.0000e+00\n",
            "Epoch 28/100\n",
            "32/32 [==============================] - 0s 1ms/step - loss: 6.7377 - accuracy: 0.0000e+00\n",
            "Epoch 29/100\n",
            "32/32 [==============================] - 0s 1ms/step - loss: 6.4067 - accuracy: 0.0000e+00\n",
            "Epoch 30/100\n",
            "32/32 [==============================] - 0s 1ms/step - loss: 5.7373 - accuracy: 0.0000e+00\n",
            "Epoch 31/100\n",
            "32/32 [==============================] - 0s 1ms/step - loss: 5.5808 - accuracy: 0.0000e+00\n",
            "Epoch 32/100\n",
            "32/32 [==============================] - 0s 1ms/step - loss: 4.9419 - accuracy: 0.0000e+00\n",
            "Epoch 33/100\n",
            "32/32 [==============================] - 0s 1ms/step - loss: 4.8788 - accuracy: 0.0000e+00\n",
            "Epoch 34/100\n",
            "32/32 [==============================] - 0s 1ms/step - loss: 4.4113 - accuracy: 0.0000e+00\n",
            "Epoch 35/100\n",
            "32/32 [==============================] - 0s 1ms/step - loss: 3.8729 - accuracy: 0.0000e+00\n",
            "Epoch 36/100\n",
            "32/32 [==============================] - 0s 1ms/step - loss: 3.6027 - accuracy: 0.0000e+00\n",
            "Epoch 37/100\n",
            "32/32 [==============================] - 0s 1ms/step - loss: 3.3014 - accuracy: 0.0000e+00\n",
            "Epoch 38/100\n",
            "32/32 [==============================] - 0s 1ms/step - loss: 3.0403 - accuracy: 0.0000e+00\n",
            "Epoch 39/100\n",
            "32/32 [==============================] - 0s 1ms/step - loss: 2.7459 - accuracy: 0.0000e+00\n",
            "Epoch 40/100\n",
            "32/32 [==============================] - 0s 1ms/step - loss: 2.5019 - accuracy: 0.0000e+00\n",
            "Epoch 41/100\n",
            "32/32 [==============================] - 0s 1ms/step - loss: 2.4896 - accuracy: 0.0000e+00\n",
            "Epoch 42/100\n",
            "32/32 [==============================] - 0s 2ms/step - loss: 2.2122 - accuracy: 0.0000e+00\n",
            "Epoch 43/100\n",
            "32/32 [==============================] - 0s 1ms/step - loss: 1.9470 - accuracy: 0.0000e+00\n",
            "Epoch 44/100\n",
            "32/32 [==============================] - 0s 1ms/step - loss: 1.7122 - accuracy: 0.0000e+00\n",
            "Epoch 45/100\n",
            "32/32 [==============================] - 0s 1ms/step - loss: 1.5580 - accuracy: 0.0000e+00\n",
            "Epoch 46/100\n",
            "32/32 [==============================] - 0s 1ms/step - loss: 1.4699 - accuracy: 0.0000e+00\n",
            "Epoch 47/100\n",
            "32/32 [==============================] - 0s 1ms/step - loss: 1.2062 - accuracy: 0.0000e+00\n",
            "Epoch 48/100\n",
            "32/32 [==============================] - 0s 1ms/step - loss: 1.1296 - accuracy: 0.0000e+00\n",
            "Epoch 49/100\n",
            "32/32 [==============================] - 0s 1ms/step - loss: 1.0818 - accuracy: 0.0000e+00\n",
            "Epoch 50/100\n",
            "32/32 [==============================] - 0s 2ms/step - loss: 0.9065 - accuracy: 0.0000e+00\n",
            "Epoch 51/100\n",
            "32/32 [==============================] - 0s 1ms/step - loss: 0.8515 - accuracy: 0.0000e+00\n",
            "Epoch 52/100\n",
            "32/32 [==============================] - 0s 1ms/step - loss: 0.7219 - accuracy: 0.0000e+00\n",
            "Epoch 53/100\n",
            "32/32 [==============================] - 0s 1ms/step - loss: 0.6491 - accuracy: 0.0000e+00\n",
            "Epoch 54/100\n",
            "32/32 [==============================] - 0s 1ms/step - loss: 0.5153 - accuracy: 0.0000e+00\n",
            "Epoch 55/100\n",
            "32/32 [==============================] - 0s 1ms/step - loss: 0.5259 - accuracy: 0.0000e+00\n",
            "Epoch 56/100\n",
            "32/32 [==============================] - 0s 1ms/step - loss: 0.4436 - accuracy: 0.0000e+00\n",
            "Epoch 57/100\n",
            "32/32 [==============================] - 0s 1ms/step - loss: 0.4229 - accuracy: 0.0000e+00\n",
            "Epoch 58/100\n",
            "32/32 [==============================] - 0s 1ms/step - loss: 0.3379 - accuracy: 0.0000e+00\n",
            "Epoch 59/100\n",
            "32/32 [==============================] - 0s 1ms/step - loss: 0.3081 - accuracy: 0.0000e+00\n",
            "Epoch 60/100\n",
            "32/32 [==============================] - 0s 1ms/step - loss: 0.2401 - accuracy: 0.0000e+00\n",
            "Epoch 61/100\n",
            "32/32 [==============================] - 0s 1ms/step - loss: 0.2117 - accuracy: 0.0000e+00\n",
            "Epoch 62/100\n",
            "32/32 [==============================] - 0s 1ms/step - loss: 0.2001 - accuracy: 0.0000e+00\n",
            "Epoch 63/100\n",
            "32/32 [==============================] - 0s 2ms/step - loss: 0.1635 - accuracy: 0.0000e+00\n",
            "Epoch 64/100\n",
            "32/32 [==============================] - 0s 1ms/step - loss: 0.1389 - accuracy: 0.0000e+00\n",
            "Epoch 65/100\n",
            "32/32 [==============================] - 0s 1ms/step - loss: 0.1213 - accuracy: 0.0000e+00\n",
            "Epoch 66/100\n",
            "32/32 [==============================] - 0s 1ms/step - loss: 0.1097 - accuracy: 0.0000e+00\n",
            "Epoch 67/100\n",
            "32/32 [==============================] - 0s 1ms/step - loss: 0.0933 - accuracy: 0.0000e+00\n",
            "Epoch 68/100\n",
            "32/32 [==============================] - 0s 1ms/step - loss: 0.0774 - accuracy: 0.0000e+00\n",
            "Epoch 69/100\n",
            "32/32 [==============================] - 0s 1ms/step - loss: 0.0621 - accuracy: 0.0000e+00\n",
            "Epoch 70/100\n",
            "32/32 [==============================] - 0s 1ms/step - loss: 0.0526 - accuracy: 0.0000e+00\n",
            "Epoch 71/100\n",
            "32/32 [==============================] - 0s 1ms/step - loss: 0.0446 - accuracy: 0.0000e+00\n",
            "Epoch 72/100\n",
            "32/32 [==============================] - 0s 1ms/step - loss: 0.0385 - accuracy: 0.0000e+00\n",
            "Epoch 73/100\n",
            "32/32 [==============================] - 0s 1ms/step - loss: 0.0331 - accuracy: 0.0000e+00\n",
            "Epoch 74/100\n",
            "32/32 [==============================] - 0s 1ms/step - loss: 0.0250 - accuracy: 0.0000e+00\n",
            "Epoch 75/100\n",
            "32/32 [==============================] - 0s 1ms/step - loss: 0.0232 - accuracy: 0.0000e+00\n",
            "Epoch 76/100\n",
            "32/32 [==============================] - 0s 1ms/step - loss: 0.0186 - accuracy: 0.0000e+00\n",
            "Epoch 77/100\n",
            "32/32 [==============================] - 0s 1ms/step - loss: 0.0158 - accuracy: 0.0000e+00\n",
            "Epoch 78/100\n",
            "32/32 [==============================] - 0s 1ms/step - loss: 0.0115 - accuracy: 0.0000e+00\n",
            "Epoch 79/100\n",
            "32/32 [==============================] - 0s 1ms/step - loss: 0.0103 - accuracy: 0.0000e+00\n",
            "Epoch 80/100\n",
            "32/32 [==============================] - 0s 1ms/step - loss: 0.0082 - accuracy: 0.0000e+00\n",
            "Epoch 81/100\n",
            "32/32 [==============================] - 0s 1ms/step - loss: 0.0067 - accuracy: 0.0000e+00\n",
            "Epoch 82/100\n",
            "32/32 [==============================] - 0s 1ms/step - loss: 0.0051 - accuracy: 0.0000e+00\n",
            "Epoch 83/100\n",
            "32/32 [==============================] - 0s 1ms/step - loss: 0.0044 - accuracy: 0.0000e+00\n",
            "Epoch 84/100\n",
            "32/32 [==============================] - 0s 2ms/step - loss: 0.0035 - accuracy: 0.0000e+00\n",
            "Epoch 85/100\n",
            "32/32 [==============================] - 0s 1ms/step - loss: 0.0029 - accuracy: 0.0000e+00\n",
            "Epoch 86/100\n",
            "32/32 [==============================] - 0s 1ms/step - loss: 0.0023 - accuracy: 0.0000e+00\n",
            "Epoch 87/100\n",
            "32/32 [==============================] - 0s 1ms/step - loss: 0.0018 - accuracy: 0.0000e+00\n",
            "Epoch 88/100\n",
            "32/32 [==============================] - 0s 1ms/step - loss: 0.0013 - accuracy: 0.0000e+00\n",
            "Epoch 89/100\n",
            "32/32 [==============================] - 0s 1ms/step - loss: 0.0013 - accuracy: 0.0000e+00\n",
            "Epoch 90/100\n",
            "32/32 [==============================] - 0s 1ms/step - loss: 8.7743e-04 - accuracy: 0.0000e+00\n",
            "Epoch 91/100\n",
            "32/32 [==============================] - 0s 1ms/step - loss: 7.0570e-04 - accuracy: 0.0000e+00\n",
            "Epoch 92/100\n",
            "32/32 [==============================] - 0s 1ms/step - loss: 4.9824e-04 - accuracy: 0.0000e+00\n",
            "Epoch 93/100\n",
            "32/32 [==============================] - 0s 1ms/step - loss: 3.9958e-04 - accuracy: 0.0000e+00\n",
            "Epoch 94/100\n",
            "32/32 [==============================] - 0s 1ms/step - loss: 3.2781e-04 - accuracy: 0.0000e+00\n",
            "Epoch 95/100\n",
            "32/32 [==============================] - 0s 1ms/step - loss: 2.4533e-04 - accuracy: 0.0000e+00\n",
            "Epoch 96/100\n",
            "32/32 [==============================] - 0s 1ms/step - loss: 2.0840e-04 - accuracy: 0.0000e+00\n",
            "Epoch 97/100\n",
            "32/32 [==============================] - 0s 1ms/step - loss: 1.3650e-04 - accuracy: 0.0000e+00\n",
            "Epoch 98/100\n",
            "32/32 [==============================] - 0s 1ms/step - loss: 1.2735e-04 - accuracy: 0.0000e+00\n",
            "Epoch 99/100\n",
            "32/32 [==============================] - 0s 1ms/step - loss: 9.9007e-05 - accuracy: 0.0000e+00\n",
            "Epoch 100/100\n",
            "32/32 [==============================] - 0s 1ms/step - loss: 5.9891e-05 - accuracy: 0.0000e+00\n"
          ],
          "name": "stdout"
        },
        {
          "output_type": "execute_result",
          "data": {
            "text/plain": [
              "<tensorflow.python.keras.callbacks.History at 0x7f92d0f89290>"
            ]
          },
          "metadata": {
            "tags": []
          },
          "execution_count": 59
        }
      ]
    },
    {
      "cell_type": "code",
      "metadata": {
        "colab": {
          "base_uri": "https://localhost:8080/"
        },
        "id": "6BVgCiGxkEXx",
        "outputId": "056c0de1-7e7b-4ca5-e6fb-5084acd466b8"
      },
      "source": [
        "y_pred = model.predict(x=[1203])\n",
        "y_pred"
      ],
      "execution_count": 60,
      "outputs": [
        {
          "output_type": "execute_result",
          "data": {
            "text/plain": [
              "array([[1213.0077]], dtype=float32)"
            ]
          },
          "metadata": {
            "tags": []
          },
          "execution_count": 60
        }
      ]
    },
    {
      "cell_type": "code",
      "metadata": {
        "colab": {
          "base_uri": "https://localhost:8080/"
        },
        "id": "2WkgTejduj1Z",
        "outputId": "b7d89e80-a739-43b2-daac-5665fcf33ad3"
      },
      "source": [
        "model.summary()"
      ],
      "execution_count": 61,
      "outputs": [
        {
          "output_type": "stream",
          "text": [
            "Model: \"sequential_24\"\n",
            "_________________________________________________________________\n",
            "Layer (type)                 Output Shape              Param #   \n",
            "=================================================================\n",
            "dense_44 (Dense)             (None, 1)                 2         \n",
            "=================================================================\n",
            "Total params: 2\n",
            "Trainable params: 2\n",
            "Non-trainable params: 0\n",
            "_________________________________________________________________\n"
          ],
          "name": "stdout"
        }
      ]
    },
    {
      "cell_type": "code",
      "metadata": {
        "colab": {
          "base_uri": "https://localhost:8080/"
        },
        "id": "hW7Ww9l4xeon",
        "outputId": "e53c0d53-aaf9-417c-b903-b620fc3878e9"
      },
      "source": [
        "model.save(\"/content/drive/MyDrive/my_model\")"
      ],
      "execution_count": 62,
      "outputs": [
        {
          "output_type": "stream",
          "text": [
            "INFO:tensorflow:Assets written to: /content/drive/MyDrive/my_model/assets\n"
          ],
          "name": "stdout"
        }
      ]
    }
  ]
}