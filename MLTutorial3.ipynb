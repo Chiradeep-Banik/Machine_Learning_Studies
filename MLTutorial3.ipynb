{
  "nbformat": 4,
  "nbformat_minor": 0,
  "metadata": {
    "colab": {
      "name": "MLTutorial3.ipynb",
      "provenance": [],
      "collapsed_sections": [],
      "mount_file_id": "1nw37LU1V7nQeXaKh1BSVVSLMQOVzsNb8",
      "authorship_tag": "ABX9TyM+T97eki+yOCDOjHOsqxZH",
      "include_colab_link": true
    },
    "kernelspec": {
      "name": "python3",
      "display_name": "Python 3"
    },
    "language_info": {
      "name": "python"
    }
  },
  "cells": [
    {
      "cell_type": "markdown",
      "metadata": {
        "id": "view-in-github",
        "colab_type": "text"
      },
      "source": [
        "<a href=\"https://colab.research.google.com/github/Vikram-Ahuja/Machine_Learning_Studies/blob/main/MLTutorial3.ipynb\" target=\"_parent\"><img src=\"https://colab.research.google.com/assets/colab-badge.svg\" alt=\"Open In Colab\"/></a>"
      ]
    },
    {
      "cell_type": "code",
      "metadata": {
        "id": "gNJsv8yEMIXN"
      },
      "source": [
        "import numpy as np\n",
        "import matplotlib.pyplot as plt"
      ],
      "execution_count": null,
      "outputs": []
    },
    {
      "cell_type": "code",
      "metadata": {
        "colab": {
          "base_uri": "https://localhost:8080/",
          "height": 282
        },
        "id": "jPcQnldFX0rP",
        "outputId": "e9d31e69-64d4-4447-848b-1d8628740a56"
      },
      "source": [
        "dataset = { \n",
        "    'k' : [[1,2],[2,3],[3,1]],\n",
        "    'r' : [[6,5],[7,7],[8,6]]\n",
        " }\n",
        "new_feature = [5,7]\n",
        "\n",
        "\n",
        "def knn(data,try_data,k=3):\n",
        "    distances = []\n",
        "    ele = []\n",
        "    for element in data:\n",
        "        ele.append(element)\n",
        "        for features in data[element]:\n",
        "            point1 = np.array(features)\n",
        "            point2 = np.array(try_data)\n",
        "            dist = np.linalg.norm(point1 - point2)\n",
        "            distances.append([dist,element])\n",
        "    vote_list = sorted(distances)[:k]\n",
        "    sum1,sum2=0,0\n",
        "    for votes in vote_list:\n",
        "        if (votes[1] == ele[0]):\n",
        "            sum1 = sum1+1\n",
        "        else :\n",
        "            sum2= sum2+1\n",
        "    if (sum1< sum2):\n",
        "        return ele[1]\n",
        "    else:\n",
        "        return ele[0]\n",
        "    \n",
        "\n",
        "result = knn(dataset,new_feature)\n",
        "print(\"Result is :  \",result)\n",
        "for elements in dataset:\n",
        "    for points in dataset[elements]:\n",
        "        plt.scatter(points[0],points[1],color = elements)\n",
        "plt.scatter(new_feature[0],new_feature[1],color = result)\n",
        "plt.show()"
      ],
      "execution_count": null,
      "outputs": [
        {
          "output_type": "stream",
          "text": [
            "Result is :   r\n"
          ],
          "name": "stdout"
        },
        {
          "output_type": "display_data",
          "data": {
            "image/png": "[encoded data removed]",
            "text/plain": [
              "<Figure size 432x288 with 1 Axes>"
            ]
          },
          "metadata": {
            "tags": [],
            "needs_background": "light"
          }
        }
      ]
    }
  ]
}